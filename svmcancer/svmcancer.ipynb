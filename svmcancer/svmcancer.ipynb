{
 "cells": [
  {
   "cell_type": "markdown",
   "metadata": {},
   "source": [
    "# Dataset Cancer\n",
    "\n",
    "มี Bilirubin, Cholesterol, Tryglicerides, albumin, SGOT, Alkaline Phosfate, Platelet, Prothrombin รวมถึงการตรวจปัสสาวะเพื่อหาค่า Copper นอกจากนี้ยังได้มีการตรวจภาวะท้องบวมน้ า \n",
    "(Ascites) ภาวะตับโต (hematomegaly) ภาวะเส้นเลือดด าขอดเป็นรูปใยแมงมุมที่ชั้นใต้ผิวหนัง (Spider) ภาวะการบวม \n",
    "(edema )\n",
    "\n",
    "- Bilirubin: บิลิรูบิน คือ คือสารเคมีชนิดหนึ่ง ที่อยู่ในร่างกาย มีเหลืองออกน้ำตาล โดยเป็นสารที่เกิดจากการแตกตัวออกหรือการตายของเซลล์เม็ดเลือดแดงในหลอดเลือด ซึ่งร่างกายสามารถขับออกได้จากทางน้ำดีและทางปัสสาวะ จึงทำให้เราสังเกตุได้ว่า เรามีอุจจาระสีน้ำตาลหรือปัสสาวะสีเหลือง นั้นเอง\n",
    "\n",
    "- Cholesterol: ไขมันชนิดหนึ่งที่พบได้ในส่วนของผนังเซลล์ทุกเซลล์ของคนเรา รวมทั้งเป็นองค์ประกอบของ น้ำดีอีกด้วย ร่างกายของเราจะได้รับคอเลสเตอรอลทั้งจาก อาหารที่รับประทานเข้าไปจากภายนอกโดยเฉพาะผลิตภัณฑ์ จากสัตว์ที่มีกรดไขมันอิ่มตัวในปริมาณที่สูง แต่ตับของเรา   ก็สามารถสังเคราะห์คอเลสเตอรอลขึ้นเองได้เช่นเดียวกัน ดังนั้นคอเลสเตอรอลที่รับประทานเข้าไปมากเกินพอจึงกลายเป็นส่วนเกินของร่างกาย\n",
    "\n",
    "- Tryglicerides:  คือ ไขมันชนิดหนึ่งในร่างกาย เกิดจากการที่ไขมันที่ร่างกายสังเคราะห์ขึ้นในตับ หรือร่างกายได้รับจากการรับประทานอาหารประเภทไขมันโดยตรง \n",
    "\n",
    "- albumin: คือ โปรตีนชนิดหนึ่งที่ลอยอยู่ในกระแสเลือด ถูกผลิตขึ้นจากตับและมีปริมาณมากกว่าโปรตีนชนิดอื่น มีความสำคัญต่อผู้ป่วยมะเร็ง โดยจะทำหน้าที่ในการสร้างเม็ดเลือดและซ่อมแซมส่วนต่าง ๆ ของร่างกายให้มีความแข็งแรง สมบูรณ์มากขึ้น ซึ่งโดยส่วนใหญ่เราจะพบอัลบูมินเป็นส่วนประกอบหนึ่งประมาณ 50% ของโปรตีนที่พบในเลือดเลยทีเดียว\n",
    "\n",
    "- SGOT: คือ คือเอนไซม์ที่ร่างกายสร้างขึ้นเมื่ออวัยวะในร่างกายเกิดความเสียหาย หากพบในปริมาณมากจะเป็นสัญญาณว่าอวัยวะภายในมีปัญหา โดยเฉพาะตับที่จะสร้างเอนไซม์ AST\n",
    "\n",
    "- Alkaline Phosfate คือ เป็นเอนไซม์ที่มีหน้าที่ในการเอา phosphatase ออกมา เอนไซม์พบได้ในหลายอวัยวะ แต่พบมากในตับ ท่อน้ำดี และในกระดูก\n",
    " \n",
    "-  Platelet: คือ องค์ประกอบของเม็ดเลือดที่สร้างจากไขกระดูก และถูกทำลายที่ม้ามและตับ เกล็ดเลือดไหลเวียนอยู่ในกระแสเลือด ทำให้เลือดหยุดไหลในกรณีที่มีบาดแผลหรือมีภาวะเลือดออก\n",
    "\n",
    "-  Prothrombin คือโปรตีนที่ผลิตโดยตับและมีหน้าที่สำคัญในกระบวนการแข็งตัวของเลือด \n",
    "\n",
    "- Copper  คือ การตรวจธาตุเหล็ก ในปัสวะ การตรวจปริมาณ Copper ในปัสสาวะ เป็นการตรวจทางห้องปฏิบัติการเพื่อวิเคราะห์ปริมาณสาร Copper ในปัสสาวะ ซึ่งสาร Copper เป็นโลหะที่มีความสำคัญต่อร่างกาย เนื่องจากมีบทบาทในการสร้างเซลล์แดง\n",
    "\n",
    "- Ascites คือ ภาวะที่ของเหลวมีการสะสมระหว่างเยื่อหุ้มช่องท้อง และอวัยวะภายในช่องท้องมากเกินผิดปกติ จากการทำงานของตับผิดปกติ ส่งผลให้พุงขยายใหญ่คล้ายผู้ที่ตั้งครรภ์\n",
    "\n",
    "- hematomegaly คือ ภาวะตับโต คือ ตับโตเกินขนาดปกติ ซึ่งเกิดจากการสะสมของไขมันในตับ หรือเกิดจากโรคตับอื่น ๆ ที่ทำให้ตับโตเกินขนาดปกติ\n",
    "\n",
    "- Spider คือ ภาวะเส้นเลือดด าขอดเป็นรูปใยแมงมุมที่ชั้นใต้ผิวหนัง\n",
    "\n",
    "- edema คือ ภาวะการบวม คือ การสะสมของน้ำในร่างกาย ทำให้เกิดการบวมขึ้น โดยเฉพาะบริเวณขา แขน หน้าอก หน้าท้อง หน้า และตา\n"
   ]
  },
  {
   "cell_type": "code",
   "execution_count": 193,
   "metadata": {},
   "outputs": [
    {
     "data": {
      "text/html": [
       "<div>\n",
       "<style scoped>\n",
       "    .dataframe tbody tr th:only-of-type {\n",
       "        vertical-align: middle;\n",
       "    }\n",
       "\n",
       "    .dataframe tbody tr th {\n",
       "        vertical-align: top;\n",
       "    }\n",
       "\n",
       "    .dataframe thead th {\n",
       "        text-align: right;\n",
       "    }\n",
       "</style>\n",
       "<table border=\"1\" class=\"dataframe\">\n",
       "  <thead>\n",
       "    <tr style=\"text-align: right;\">\n",
       "      <th></th>\n",
       "      <th>Sex</th>\n",
       "      <th>Ascites</th>\n",
       "      <th>Hepatomegaly</th>\n",
       "      <th>Spiders</th>\n",
       "      <th>Edema</th>\n",
       "      <th>Bilirubin</th>\n",
       "      <th>Cholesterol</th>\n",
       "      <th>Albumin</th>\n",
       "      <th>Copper</th>\n",
       "      <th>Alk_Phos</th>\n",
       "      <th>SGOT</th>\n",
       "      <th>Tryglicerides</th>\n",
       "      <th>Platelets</th>\n",
       "      <th>Prothrombin</th>\n",
       "      <th>CA level</th>\n",
       "    </tr>\n",
       "  </thead>\n",
       "  <tbody>\n",
       "    <tr>\n",
       "      <th>0</th>\n",
       "      <td>F</td>\n",
       "      <td>Y</td>\n",
       "      <td>Y</td>\n",
       "      <td>Y</td>\n",
       "      <td>Y</td>\n",
       "      <td>14.5</td>\n",
       "      <td>261</td>\n",
       "      <td>2.60</td>\n",
       "      <td>156</td>\n",
       "      <td>1718.0</td>\n",
       "      <td>137.95</td>\n",
       "      <td>172</td>\n",
       "      <td>190</td>\n",
       "      <td>12.2</td>\n",
       "      <td>4</td>\n",
       "    </tr>\n",
       "    <tr>\n",
       "      <th>1</th>\n",
       "      <td>F</td>\n",
       "      <td>N</td>\n",
       "      <td>Y</td>\n",
       "      <td>Y</td>\n",
       "      <td>N</td>\n",
       "      <td>1.1</td>\n",
       "      <td>302</td>\n",
       "      <td>4.14</td>\n",
       "      <td>54</td>\n",
       "      <td>7394.8</td>\n",
       "      <td>113.52</td>\n",
       "      <td>88</td>\n",
       "      <td>221</td>\n",
       "      <td>10.6</td>\n",
       "      <td>3</td>\n",
       "    </tr>\n",
       "    <tr>\n",
       "      <th>2</th>\n",
       "      <td>M</td>\n",
       "      <td>N</td>\n",
       "      <td>N</td>\n",
       "      <td>N</td>\n",
       "      <td>S</td>\n",
       "      <td>1.4</td>\n",
       "      <td>176</td>\n",
       "      <td>3.48</td>\n",
       "      <td>210</td>\n",
       "      <td>516.0</td>\n",
       "      <td>96.10</td>\n",
       "      <td>55</td>\n",
       "      <td>151</td>\n",
       "      <td>12.0</td>\n",
       "      <td>4</td>\n",
       "    </tr>\n",
       "    <tr>\n",
       "      <th>3</th>\n",
       "      <td>F</td>\n",
       "      <td>N</td>\n",
       "      <td>Y</td>\n",
       "      <td>Y</td>\n",
       "      <td>S</td>\n",
       "      <td>1.8</td>\n",
       "      <td>244</td>\n",
       "      <td>2.54</td>\n",
       "      <td>64</td>\n",
       "      <td>6121.8</td>\n",
       "      <td>60.63</td>\n",
       "      <td>92</td>\n",
       "      <td>183</td>\n",
       "      <td>10.3</td>\n",
       "      <td>4</td>\n",
       "    </tr>\n",
       "    <tr>\n",
       "      <th>4</th>\n",
       "      <td>F</td>\n",
       "      <td>N</td>\n",
       "      <td>Y</td>\n",
       "      <td>Y</td>\n",
       "      <td>N</td>\n",
       "      <td>3.4</td>\n",
       "      <td>279</td>\n",
       "      <td>3.53</td>\n",
       "      <td>143</td>\n",
       "      <td>671.0</td>\n",
       "      <td>113.15</td>\n",
       "      <td>72</td>\n",
       "      <td>136</td>\n",
       "      <td>10.9</td>\n",
       "      <td>3</td>\n",
       "    </tr>\n",
       "  </tbody>\n",
       "</table>\n",
       "</div>"
      ],
      "text/plain": [
       "  Sex Ascites Hepatomegaly Spiders Edema  Bilirubin  Cholesterol  Albumin  \\\n",
       "0   F       Y            Y       Y     Y       14.5          261     2.60   \n",
       "1   F       N            Y       Y     N        1.1          302     4.14   \n",
       "2   M       N            N       N     S        1.4          176     3.48   \n",
       "3   F       N            Y       Y     S        1.8          244     2.54   \n",
       "4   F       N            Y       Y     N        3.4          279     3.53   \n",
       "\n",
       "   Copper  Alk_Phos    SGOT  Tryglicerides  Platelets  Prothrombin  CA level  \n",
       "0     156    1718.0  137.95            172        190         12.2         4  \n",
       "1      54    7394.8  113.52             88        221         10.6         3  \n",
       "2     210     516.0   96.10             55        151         12.0         4  \n",
       "3      64    6121.8   60.63             92        183         10.3         4  \n",
       "4     143     671.0  113.15             72        136         10.9         3  "
      ]
     },
     "execution_count": 193,
     "metadata": {},
     "output_type": "execute_result"
    }
   ],
   "source": [
    "import pandas as pd\n",
    "\n",
    "# Load data\n",
    "data = pd.read_csv('cancer.csv')\n",
    "data.head()"
   ]
  },
  {
   "cell_type": "code",
   "execution_count": 194,
   "metadata": {},
   "outputs": [],
   "source": [
    "# Clean Data \n",
    "formatEdema = {'Y' : 1, 'N' : 0, 'S' : 2}\n",
    "formatSex = {'M' : 1, 'F' : 0}\n",
    "formatOther = {'Y' : 1, 'N' : 0}\n",
    "\n",
    "\n",
    "\n",
    "\n",
    "data['Edema'] = data['Edema'].map(formatEdema)\n",
    "data['Sex'] = data['Sex'].map(formatSex)\n",
    "data['Ascites'] = data['Ascites'].map(formatOther)\n",
    "data['Hepatomegaly'] = data['Hepatomegaly'].map(formatOther)\n",
    "data['Spiders'] = data['Spiders'].map(formatOther)"
   ]
  },
  {
   "cell_type": "code",
   "execution_count": 195,
   "metadata": {},
   "outputs": [],
   "source": [
    "y = data['Sex']\n",
    "X = data.drop(['Sex'], axis=1).copy()"
   ]
  },
  {
   "cell_type": "code",
   "execution_count": 196,
   "metadata": {},
   "outputs": [
    {
     "name": "stdout",
     "output_type": "stream",
     "text": [
      "(255, 14) (255,) (55, 14) (55,)\n"
     ]
    }
   ],
   "source": [
    "from sklearn.model_selection import train_test_split\n",
    "\n",
    "X_train,X_test,y_train,y_test = train_test_split(X,y,test_size=0.175,random_state=199)\n",
    "print (X_train.shape, y_train.shape, X_test.shape, y_test.shape)"
   ]
  },
  {
   "cell_type": "code",
   "execution_count": 197,
   "metadata": {},
   "outputs": [
    {
     "name": "stderr",
     "output_type": "stream",
     "text": [
      "/usr/local/anaconda3/lib/python3.9/site-packages/sklearn/svm/_base.py:284: ConvergenceWarning: Solver terminated early (max_iter=100000).  Consider pre-processing your data with StandardScaler or MinMaxScaler.\n",
      "  warnings.warn(\n"
     ]
    },
    {
     "data": {
      "text/plain": [
       "SVC(C=10, kernel='linear', max_iter=100000, random_state=199)"
      ]
     },
     "execution_count": 197,
     "metadata": {},
     "output_type": "execute_result"
    }
   ],
   "source": [
    "from sklearn.svm import SVC\n",
    "svm_model = SVC(kernel='linear', C=10,max_iter=100000,random_state=199)\n",
    "svm_model.fit(X_train, y_train)"
   ]
  },
  {
   "cell_type": "code",
   "execution_count": 198,
   "metadata": {},
   "outputs": [
    {
     "name": "stdout",
     "output_type": "stream",
     "text": [
      "Accuracy: 72.72727272727273 %\n",
      "              precision    recall  f1-score   support\n",
      "\n",
      "           0       0.86      0.80      0.83        46\n",
      "           1       0.25      0.33      0.29         9\n",
      "\n",
      "    accuracy                           0.73        55\n",
      "   macro avg       0.56      0.57      0.56        55\n",
      "weighted avg       0.76      0.73      0.74        55\n",
      "\n"
     ]
    }
   ],
   "source": [
    "from sklearn.metrics import accuracy_score, classification_report\n",
    "y_pred = svm_model.predict(X_test)\n",
    "\n",
    "# คำนวณความแม่นยำ\n",
    "accuracy = accuracy_score(y_test, y_pred)\n",
    "accuracy = accuracy * 100\n",
    "print(f'Accuracy: {accuracy} %')\n",
    "\n",
    "# แสดงรายงานการจำแนก\n",
    "print(classification_report(y_test, y_pred))"
   ]
  }
 ],
 "metadata": {
  "kernelspec": {
   "display_name": "base",
   "language": "python",
   "name": "python3"
  },
  "language_info": {
   "codemirror_mode": {
    "name": "ipython",
    "version": 3
   },
   "file_extension": ".py",
   "mimetype": "text/x-python",
   "name": "python",
   "nbconvert_exporter": "python",
   "pygments_lexer": "ipython3",
   "version": "3.9.13"
  }
 },
 "nbformat": 4,
 "nbformat_minor": 2
}
